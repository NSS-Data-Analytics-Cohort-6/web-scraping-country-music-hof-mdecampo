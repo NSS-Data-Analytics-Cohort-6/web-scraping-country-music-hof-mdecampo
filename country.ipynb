{
 "cells": [
  {
   "cell_type": "code",
   "execution_count": 23,
   "id": "87072a8c",
   "metadata": {},
   "outputs": [],
   "source": [
    "import requests\n",
    "import re\n",
    "from bs4 import BeautifulSoup as BS\n",
    "from IPython.core.display import HTML\n",
    "import pandas as pd"
   ]
  },
  {
   "cell_type": "code",
   "execution_count": 24,
   "id": "7da35e37",
   "metadata": {},
   "outputs": [],
   "source": [
    "page=1\n",
    "url=f'https://countrymusichalloffame.org/hall-of-fame/members/page/{page}'"
   ]
  },
  {
   "cell_type": "code",
   "execution_count": 25,
   "id": "ceb14dc7",
   "metadata": {},
   "outputs": [],
   "source": [
    "my_list=[]\n",
    "while page!=18:\n",
    "    response = requests.get(url)\n",
    "    soup = BS(response.text, 'html.parser')\n",
    "    cards_data=soup.find_all(\"div\", {\"class\": \"vertical-card_content\"})\n",
    "    for card in cards_data:\n",
    "        card_details={}\n",
    "        artists=card.find('h3')\n",
    "        year=str(card.find('p'))\n",
    "        year_new=re.findall(r'\\d{4}',year)\n",
    "        year_inducted=''.join(year_new)\n",
    "        card_details['artist'] = artists.text\n",
    "        card_details['year'] = year\n",
    "        my_list.append(card_details)\n",
    "    page= page+1"
   ]
  },
  {
   "cell_type": "code",
   "execution_count": 26,
   "id": "5d14498b",
   "metadata": {},
   "outputs": [
    {
     "name": "stdout",
     "output_type": "stream",
     "text": [
      "[{'artist': 'Roy Acuff', 'year': '<p>\\n                    Inducted 1962                  </p>'}, {'artist': 'Alabama', 'year': '<p>\\n                    Inducted 2005                  </p>'}, {'artist': 'Bill Anderson', 'year': '<p>\\n                    Inducted 2001                  </p>'}, {'artist': 'Eddy Arnold', 'year': '<p>\\n                    Inducted 1966                  </p>'}, {'artist': 'Chet Atkins', 'year': '<p>\\n                    Inducted 1973                  </p>'}, {'artist': 'Gene Autry', 'year': '<p>\\n                    Inducted 1969                  </p>'}, {'artist': 'DeFord Bailey', 'year': '<p>\\n                    Inducted 2005                  </p>'}, {'artist': 'Bobby Bare', 'year': '<p>\\n                    Inducted 2013                  </p>'}, {'artist': 'Eddie Bayers', 'year': '<p>\\n                    Inducted 2022                  </p>'}, {'artist': 'Roy Acuff', 'year': '<p>\\n                    Inducted 1962                  </p>'}, {'artist': 'Alabama', 'year': '<p>\\n                    Inducted 2005                  </p>'}, {'artist': 'Bill Anderson', 'year': '<p>\\n                    Inducted 2001                  </p>'}, {'artist': 'Eddy Arnold', 'year': '<p>\\n                    Inducted 1966                  </p>'}, {'artist': 'Chet Atkins', 'year': '<p>\\n                    Inducted 1973                  </p>'}, {'artist': 'Gene Autry', 'year': '<p>\\n                    Inducted 1969                  </p>'}, {'artist': 'DeFord Bailey', 'year': '<p>\\n                    Inducted 2005                  </p>'}, {'artist': 'Bobby Bare', 'year': '<p>\\n                    Inducted 2013                  </p>'}, {'artist': 'Eddie Bayers', 'year': '<p>\\n                    Inducted 2022                  </p>'}, {'artist': 'Roy Acuff', 'year': '<p>\\n                    Inducted 1962                  </p>'}, {'artist': 'Alabama', 'year': '<p>\\n                    Inducted 2005                  </p>'}, {'artist': 'Bill Anderson', 'year': '<p>\\n                    Inducted 2001                  </p>'}, {'artist': 'Eddy Arnold', 'year': '<p>\\n                    Inducted 1966                  </p>'}, {'artist': 'Chet Atkins', 'year': '<p>\\n                    Inducted 1973                  </p>'}, {'artist': 'Gene Autry', 'year': '<p>\\n                    Inducted 1969                  </p>'}, {'artist': 'DeFord Bailey', 'year': '<p>\\n                    Inducted 2005                  </p>'}, {'artist': 'Bobby Bare', 'year': '<p>\\n                    Inducted 2013                  </p>'}, {'artist': 'Eddie Bayers', 'year': '<p>\\n                    Inducted 2022                  </p>'}, {'artist': 'Roy Acuff', 'year': '<p>\\n                    Inducted 1962                  </p>'}, {'artist': 'Alabama', 'year': '<p>\\n                    Inducted 2005                  </p>'}, {'artist': 'Bill Anderson', 'year': '<p>\\n                    Inducted 2001                  </p>'}, {'artist': 'Eddy Arnold', 'year': '<p>\\n                    Inducted 1966                  </p>'}, {'artist': 'Chet Atkins', 'year': '<p>\\n                    Inducted 1973                  </p>'}, {'artist': 'Gene Autry', 'year': '<p>\\n                    Inducted 1969                  </p>'}, {'artist': 'DeFord Bailey', 'year': '<p>\\n                    Inducted 2005                  </p>'}, {'artist': 'Bobby Bare', 'year': '<p>\\n                    Inducted 2013                  </p>'}, {'artist': 'Eddie Bayers', 'year': '<p>\\n                    Inducted 2022                  </p>'}, {'artist': 'Roy Acuff', 'year': '<p>\\n                    Inducted 1962                  </p>'}, {'artist': 'Alabama', 'year': '<p>\\n                    Inducted 2005                  </p>'}, {'artist': 'Bill Anderson', 'year': '<p>\\n                    Inducted 2001                  </p>'}, {'artist': 'Eddy Arnold', 'year': '<p>\\n                    Inducted 1966                  </p>'}, {'artist': 'Chet Atkins', 'year': '<p>\\n                    Inducted 1973                  </p>'}, {'artist': 'Gene Autry', 'year': '<p>\\n                    Inducted 1969                  </p>'}, {'artist': 'DeFord Bailey', 'year': '<p>\\n                    Inducted 2005                  </p>'}, {'artist': 'Bobby Bare', 'year': '<p>\\n                    Inducted 2013                  </p>'}, {'artist': 'Eddie Bayers', 'year': '<p>\\n                    Inducted 2022                  </p>'}, {'artist': 'Roy Acuff', 'year': '<p>\\n                    Inducted 1962                  </p>'}, {'artist': 'Alabama', 'year': '<p>\\n                    Inducted 2005                  </p>'}, {'artist': 'Bill Anderson', 'year': '<p>\\n                    Inducted 2001                  </p>'}, {'artist': 'Eddy Arnold', 'year': '<p>\\n                    Inducted 1966                  </p>'}, {'artist': 'Chet Atkins', 'year': '<p>\\n                    Inducted 1973                  </p>'}, {'artist': 'Gene Autry', 'year': '<p>\\n                    Inducted 1969                  </p>'}, {'artist': 'DeFord Bailey', 'year': '<p>\\n                    Inducted 2005                  </p>'}, {'artist': 'Bobby Bare', 'year': '<p>\\n                    Inducted 2013                  </p>'}, {'artist': 'Eddie Bayers', 'year': '<p>\\n                    Inducted 2022                  </p>'}, {'artist': 'Roy Acuff', 'year': '<p>\\n                    Inducted 1962                  </p>'}, {'artist': 'Alabama', 'year': '<p>\\n                    Inducted 2005                  </p>'}, {'artist': 'Bill Anderson', 'year': '<p>\\n                    Inducted 2001                  </p>'}, {'artist': 'Eddy Arnold', 'year': '<p>\\n                    Inducted 1966                  </p>'}, {'artist': 'Chet Atkins', 'year': '<p>\\n                    Inducted 1973                  </p>'}, {'artist': 'Gene Autry', 'year': '<p>\\n                    Inducted 1969                  </p>'}, {'artist': 'DeFord Bailey', 'year': '<p>\\n                    Inducted 2005                  </p>'}, {'artist': 'Bobby Bare', 'year': '<p>\\n                    Inducted 2013                  </p>'}, {'artist': 'Eddie Bayers', 'year': '<p>\\n                    Inducted 2022                  </p>'}, {'artist': 'Roy Acuff', 'year': '<p>\\n                    Inducted 1962                  </p>'}, {'artist': 'Alabama', 'year': '<p>\\n                    Inducted 2005                  </p>'}, {'artist': 'Bill Anderson', 'year': '<p>\\n                    Inducted 2001                  </p>'}, {'artist': 'Eddy Arnold', 'year': '<p>\\n                    Inducted 1966                  </p>'}, {'artist': 'Chet Atkins', 'year': '<p>\\n                    Inducted 1973                  </p>'}, {'artist': 'Gene Autry', 'year': '<p>\\n                    Inducted 1969                  </p>'}, {'artist': 'DeFord Bailey', 'year': '<p>\\n                    Inducted 2005                  </p>'}, {'artist': 'Bobby Bare', 'year': '<p>\\n                    Inducted 2013                  </p>'}, {'artist': 'Eddie Bayers', 'year': '<p>\\n                    Inducted 2022                  </p>'}, {'artist': 'Roy Acuff', 'year': '<p>\\n                    Inducted 1962                  </p>'}, {'artist': 'Alabama', 'year': '<p>\\n                    Inducted 2005                  </p>'}, {'artist': 'Bill Anderson', 'year': '<p>\\n                    Inducted 2001                  </p>'}, {'artist': 'Eddy Arnold', 'year': '<p>\\n                    Inducted 1966                  </p>'}, {'artist': 'Chet Atkins', 'year': '<p>\\n                    Inducted 1973                  </p>'}, {'artist': 'Gene Autry', 'year': '<p>\\n                    Inducted 1969                  </p>'}, {'artist': 'DeFord Bailey', 'year': '<p>\\n                    Inducted 2005                  </p>'}, {'artist': 'Bobby Bare', 'year': '<p>\\n                    Inducted 2013                  </p>'}, {'artist': 'Eddie Bayers', 'year': '<p>\\n                    Inducted 2022                  </p>'}, {'artist': 'Roy Acuff', 'year': '<p>\\n                    Inducted 1962                  </p>'}, {'artist': 'Alabama', 'year': '<p>\\n                    Inducted 2005                  </p>'}, {'artist': 'Bill Anderson', 'year': '<p>\\n                    Inducted 2001                  </p>'}, {'artist': 'Eddy Arnold', 'year': '<p>\\n                    Inducted 1966                  </p>'}, {'artist': 'Chet Atkins', 'year': '<p>\\n                    Inducted 1973                  </p>'}, {'artist': 'Gene Autry', 'year': '<p>\\n                    Inducted 1969                  </p>'}, {'artist': 'DeFord Bailey', 'year': '<p>\\n                    Inducted 2005                  </p>'}, {'artist': 'Bobby Bare', 'year': '<p>\\n                    Inducted 2013                  </p>'}, {'artist': 'Eddie Bayers', 'year': '<p>\\n                    Inducted 2022                  </p>'}, {'artist': 'Roy Acuff', 'year': '<p>\\n                    Inducted 1962                  </p>'}, {'artist': 'Alabama', 'year': '<p>\\n                    Inducted 2005                  </p>'}, {'artist': 'Bill Anderson', 'year': '<p>\\n                    Inducted 2001                  </p>'}, {'artist': 'Eddy Arnold', 'year': '<p>\\n                    Inducted 1966                  </p>'}, {'artist': 'Chet Atkins', 'year': '<p>\\n                    Inducted 1973                  </p>'}, {'artist': 'Gene Autry', 'year': '<p>\\n                    Inducted 1969                  </p>'}, {'artist': 'DeFord Bailey', 'year': '<p>\\n                    Inducted 2005                  </p>'}, {'artist': 'Bobby Bare', 'year': '<p>\\n                    Inducted 2013                  </p>'}, {'artist': 'Eddie Bayers', 'year': '<p>\\n                    Inducted 2022                  </p>'}, {'artist': 'Roy Acuff', 'year': '<p>\\n                    Inducted 1962                  </p>'}, {'artist': 'Alabama', 'year': '<p>\\n                    Inducted 2005                  </p>'}, {'artist': 'Bill Anderson', 'year': '<p>\\n                    Inducted 2001                  </p>'}, {'artist': 'Eddy Arnold', 'year': '<p>\\n                    Inducted 1966                  </p>'}, {'artist': 'Chet Atkins', 'year': '<p>\\n                    Inducted 1973                  </p>'}, {'artist': 'Gene Autry', 'year': '<p>\\n                    Inducted 1969                  </p>'}, {'artist': 'DeFord Bailey', 'year': '<p>\\n                    Inducted 2005                  </p>'}, {'artist': 'Bobby Bare', 'year': '<p>\\n                    Inducted 2013                  </p>'}, {'artist': 'Eddie Bayers', 'year': '<p>\\n                    Inducted 2022                  </p>'}, {'artist': 'Roy Acuff', 'year': '<p>\\n                    Inducted 1962                  </p>'}, {'artist': 'Alabama', 'year': '<p>\\n                    Inducted 2005                  </p>'}, {'artist': 'Bill Anderson', 'year': '<p>\\n                    Inducted 2001                  </p>'}, {'artist': 'Eddy Arnold', 'year': '<p>\\n                    Inducted 1966                  </p>'}, {'artist': 'Chet Atkins', 'year': '<p>\\n                    Inducted 1973                  </p>'}, {'artist': 'Gene Autry', 'year': '<p>\\n                    Inducted 1969                  </p>'}, {'artist': 'DeFord Bailey', 'year': '<p>\\n                    Inducted 2005                  </p>'}, {'artist': 'Bobby Bare', 'year': '<p>\\n                    Inducted 2013                  </p>'}, {'artist': 'Eddie Bayers', 'year': '<p>\\n                    Inducted 2022                  </p>'}, {'artist': 'Roy Acuff', 'year': '<p>\\n                    Inducted 1962                  </p>'}, {'artist': 'Alabama', 'year': '<p>\\n                    Inducted 2005                  </p>'}, {'artist': 'Bill Anderson', 'year': '<p>\\n                    Inducted 2001                  </p>'}, {'artist': 'Eddy Arnold', 'year': '<p>\\n                    Inducted 1966                  </p>'}, {'artist': 'Chet Atkins', 'year': '<p>\\n                    Inducted 1973                  </p>'}, {'artist': 'Gene Autry', 'year': '<p>\\n                    Inducted 1969                  </p>'}, {'artist': 'DeFord Bailey', 'year': '<p>\\n                    Inducted 2005                  </p>'}, {'artist': 'Bobby Bare', 'year': '<p>\\n                    Inducted 2013                  </p>'}, {'artist': 'Eddie Bayers', 'year': '<p>\\n                    Inducted 2022                  </p>'}, {'artist': 'Roy Acuff', 'year': '<p>\\n                    Inducted 1962                  </p>'}, {'artist': 'Alabama', 'year': '<p>\\n                    Inducted 2005                  </p>'}, {'artist': 'Bill Anderson', 'year': '<p>\\n                    Inducted 2001                  </p>'}, {'artist': 'Eddy Arnold', 'year': '<p>\\n                    Inducted 1966                  </p>'}, {'artist': 'Chet Atkins', 'year': '<p>\\n                    Inducted 1973                  </p>'}, {'artist': 'Gene Autry', 'year': '<p>\\n                    Inducted 1969                  </p>'}, {'artist': 'DeFord Bailey', 'year': '<p>\\n                    Inducted 2005                  </p>'}, {'artist': 'Bobby Bare', 'year': '<p>\\n                    Inducted 2013                  </p>'}, {'artist': 'Eddie Bayers', 'year': '<p>\\n                    Inducted 2022                  </p>'}, {'artist': 'Roy Acuff', 'year': '<p>\\n                    Inducted 1962                  </p>'}, {'artist': 'Alabama', 'year': '<p>\\n                    Inducted 2005                  </p>'}, {'artist': 'Bill Anderson', 'year': '<p>\\n                    Inducted 2001                  </p>'}, {'artist': 'Eddy Arnold', 'year': '<p>\\n                    Inducted 1966                  </p>'}, {'artist': 'Chet Atkins', 'year': '<p>\\n                    Inducted 1973                  </p>'}, {'artist': 'Gene Autry', 'year': '<p>\\n                    Inducted 1969                  </p>'}, {'artist': 'DeFord Bailey', 'year': '<p>\\n                    Inducted 2005                  </p>'}, {'artist': 'Bobby Bare', 'year': '<p>\\n                    Inducted 2013                  </p>'}, {'artist': 'Eddie Bayers', 'year': '<p>\\n                    Inducted 2022                  </p>'}, {'artist': 'Roy Acuff', 'year': '<p>\\n                    Inducted 1962                  </p>'}, {'artist': 'Alabama', 'year': '<p>\\n                    Inducted 2005                  </p>'}, {'artist': 'Bill Anderson', 'year': '<p>\\n                    Inducted 2001                  </p>'}, {'artist': 'Eddy Arnold', 'year': '<p>\\n                    Inducted 1966                  </p>'}, {'artist': 'Chet Atkins', 'year': '<p>\\n                    Inducted 1973                  </p>'}, {'artist': 'Gene Autry', 'year': '<p>\\n                    Inducted 1969                  </p>'}, {'artist': 'DeFord Bailey', 'year': '<p>\\n                    Inducted 2005                  </p>'}, {'artist': 'Bobby Bare', 'year': '<p>\\n                    Inducted 2013                  </p>'}, {'artist': 'Eddie Bayers', 'year': '<p>\\n                    Inducted 2022                  </p>'}]\n"
     ]
    }
   ],
   "source": [
    "print(my_list)"
   ]
  },
  {
   "cell_type": "code",
   "execution_count": 35,
   "id": "2ea30331",
   "metadata": {},
   "outputs": [],
   "source": [
    "df=pd.DataFrame(my_list)"
   ]
  },
  {
   "cell_type": "code",
   "execution_count": 36,
   "id": "d44539fc",
   "metadata": {},
   "outputs": [
    {
     "name": "stdout",
     "output_type": "stream",
     "text": [
      "          artist                                               year\n",
      "0      Roy Acuff  <p>\\n                    Inducted 1962        ...\n",
      "1        Alabama  <p>\\n                    Inducted 2005        ...\n",
      "2  Bill Anderson  <p>\\n                    Inducted 2001        ...\n",
      "3    Eddy Arnold  <p>\\n                    Inducted 1966        ...\n",
      "4    Chet Atkins  <p>\\n                    Inducted 1973        ...\n",
      "0      <p>\\n                    Inducted 1962        ...\n",
      "1      <p>\\n                    Inducted 2005        ...\n",
      "2      <p>\\n                    Inducted 2001        ...\n",
      "3      <p>\\n                    Inducted 1966        ...\n",
      "4      <p>\\n                    Inducted 1973        ...\n",
      "                             ...                        \n",
      "148    <p>\\n                    Inducted 1973        ...\n",
      "149    <p>\\n                    Inducted 1969        ...\n",
      "150    <p>\\n                    Inducted 2005        ...\n",
      "151    <p>\\n                    Inducted 2013        ...\n",
      "152    <p>\\n                    Inducted 2022        ...\n",
      "Name: year, Length: 153, dtype: object\n"
     ]
    },
    {
     "data": {
      "text/html": [
       "<div>\n",
       "<style scoped>\n",
       "    .dataframe tbody tr th:only-of-type {\n",
       "        vertical-align: middle;\n",
       "    }\n",
       "\n",
       "    .dataframe tbody tr th {\n",
       "        vertical-align: top;\n",
       "    }\n",
       "\n",
       "    .dataframe thead th {\n",
       "        text-align: right;\n",
       "    }\n",
       "</style>\n",
       "<table border=\"1\" class=\"dataframe\">\n",
       "  <thead>\n",
       "    <tr style=\"text-align: right;\">\n",
       "      <th></th>\n",
       "      <th>artist</th>\n",
       "      <th>year</th>\n",
       "    </tr>\n",
       "  </thead>\n",
       "  <tbody>\n",
       "    <tr>\n",
       "      <th>0</th>\n",
       "      <td>Roy Acuff</td>\n",
       "      <td>&lt;p&gt;\n",
       "                    Inducted 1962         ...</td>\n",
       "    </tr>\n",
       "    <tr>\n",
       "      <th>1</th>\n",
       "      <td>Alabama</td>\n",
       "      <td>&lt;p&gt;\n",
       "                    Inducted 2005         ...</td>\n",
       "    </tr>\n",
       "    <tr>\n",
       "      <th>2</th>\n",
       "      <td>Bill Anderson</td>\n",
       "      <td>&lt;p&gt;\n",
       "                    Inducted 2001         ...</td>\n",
       "    </tr>\n",
       "    <tr>\n",
       "      <th>3</th>\n",
       "      <td>Eddy Arnold</td>\n",
       "      <td>&lt;p&gt;\n",
       "                    Inducted 1966         ...</td>\n",
       "    </tr>\n",
       "    <tr>\n",
       "      <th>4</th>\n",
       "      <td>Chet Atkins</td>\n",
       "      <td>&lt;p&gt;\n",
       "                    Inducted 1973         ...</td>\n",
       "    </tr>\n",
       "    <tr>\n",
       "      <th>...</th>\n",
       "      <td>...</td>\n",
       "      <td>...</td>\n",
       "    </tr>\n",
       "    <tr>\n",
       "      <th>148</th>\n",
       "      <td>Chet Atkins</td>\n",
       "      <td>&lt;p&gt;\n",
       "                    Inducted 1973         ...</td>\n",
       "    </tr>\n",
       "    <tr>\n",
       "      <th>149</th>\n",
       "      <td>Gene Autry</td>\n",
       "      <td>&lt;p&gt;\n",
       "                    Inducted 1969         ...</td>\n",
       "    </tr>\n",
       "    <tr>\n",
       "      <th>150</th>\n",
       "      <td>DeFord Bailey</td>\n",
       "      <td>&lt;p&gt;\n",
       "                    Inducted 2005         ...</td>\n",
       "    </tr>\n",
       "    <tr>\n",
       "      <th>151</th>\n",
       "      <td>Bobby Bare</td>\n",
       "      <td>&lt;p&gt;\n",
       "                    Inducted 2013         ...</td>\n",
       "    </tr>\n",
       "    <tr>\n",
       "      <th>152</th>\n",
       "      <td>Eddie Bayers</td>\n",
       "      <td>&lt;p&gt;\n",
       "                    Inducted 2022         ...</td>\n",
       "    </tr>\n",
       "  </tbody>\n",
       "</table>\n",
       "<p>153 rows × 2 columns</p>\n",
       "</div>"
      ],
      "text/plain": [
       "            artist                                               year\n",
       "0        Roy Acuff  <p>\n",
       "                    Inducted 1962         ...\n",
       "1          Alabama  <p>\n",
       "                    Inducted 2005         ...\n",
       "2    Bill Anderson  <p>\n",
       "                    Inducted 2001         ...\n",
       "3      Eddy Arnold  <p>\n",
       "                    Inducted 1966         ...\n",
       "4      Chet Atkins  <p>\n",
       "                    Inducted 1973         ...\n",
       "..             ...                                                ...\n",
       "148    Chet Atkins  <p>\n",
       "                    Inducted 1973         ...\n",
       "149     Gene Autry  <p>\n",
       "                    Inducted 1969         ...\n",
       "150  DeFord Bailey  <p>\n",
       "                    Inducted 2005         ...\n",
       "151     Bobby Bare  <p>\n",
       "                    Inducted 2013         ...\n",
       "152   Eddie Bayers  <p>\n",
       "                    Inducted 2022         ...\n",
       "\n",
       "[153 rows x 2 columns]"
      ]
     },
     "execution_count": 36,
     "metadata": {},
     "output_type": "execute_result"
    }
   ],
   "source": [
    "print(df.head())\n",
    "print(df['year'])\n",
    "df.astype({'year':'string', 'artist': 'string'})"
   ]
  },
  {
   "cell_type": "code",
   "execution_count": 37,
   "id": "12a1bf4c",
   "metadata": {},
   "outputs": [
    {
     "data": {
      "text/html": [
       "<div>\n",
       "<style scoped>\n",
       "    .dataframe tbody tr th:only-of-type {\n",
       "        vertical-align: middle;\n",
       "    }\n",
       "\n",
       "    .dataframe tbody tr th {\n",
       "        vertical-align: top;\n",
       "    }\n",
       "\n",
       "    .dataframe thead th {\n",
       "        text-align: right;\n",
       "    }\n",
       "</style>\n",
       "<table border=\"1\" class=\"dataframe\">\n",
       "  <thead>\n",
       "    <tr style=\"text-align: right;\">\n",
       "      <th></th>\n",
       "      <th>artist</th>\n",
       "      <th>new_year</th>\n",
       "    </tr>\n",
       "  </thead>\n",
       "  <tbody>\n",
       "    <tr>\n",
       "      <th>0</th>\n",
       "      <td>Roy Acuff</td>\n",
       "      <td>1962</td>\n",
       "    </tr>\n",
       "    <tr>\n",
       "      <th>1</th>\n",
       "      <td>Alabama</td>\n",
       "      <td>2005</td>\n",
       "    </tr>\n",
       "    <tr>\n",
       "      <th>2</th>\n",
       "      <td>Bill Anderson</td>\n",
       "      <td>2001</td>\n",
       "    </tr>\n",
       "    <tr>\n",
       "      <th>3</th>\n",
       "      <td>Eddy Arnold</td>\n",
       "      <td>1966</td>\n",
       "    </tr>\n",
       "    <tr>\n",
       "      <th>4</th>\n",
       "      <td>Chet Atkins</td>\n",
       "      <td>1973</td>\n",
       "    </tr>\n",
       "  </tbody>\n",
       "</table>\n",
       "</div>"
      ],
      "text/plain": [
       "          artist new_year\n",
       "0      Roy Acuff     1962\n",
       "1        Alabama     2005\n",
       "2  Bill Anderson     2001\n",
       "3    Eddy Arnold     1966\n",
       "4    Chet Atkins     1973"
      ]
     },
     "execution_count": 37,
     "metadata": {},
     "output_type": "execute_result"
    }
   ],
   "source": [
    "df['new_year'] = df['year'].str.extract(r\"(\\d{4})\")\n",
    "df.head()\n",
    "df.drop(['year'], axis=1, inplace=True)\n",
    "df.head()"
   ]
  },
  {
   "cell_type": "markdown",
   "id": "25313e46",
   "metadata": {},
   "source": [
    "##df['new_artist']=df['artist'].str.extract(r\"([A-Za-z0-9]+\\s*.*)\") #didn't end up needing this"
   ]
  },
  {
   "cell_type": "code",
   "execution_count": null,
   "id": "8489fbeb",
   "metadata": {},
   "outputs": [],
   "source": [
    "print(soup.prettify())"
   ]
  },
  {
   "cell_type": "code",
   "execution_count": null,
   "id": "12355a0b",
   "metadata": {},
   "outputs": [],
   "source": [
    "artists=soup.findAll('h3')\n",
    "artists"
   ]
  },
  {
   "cell_type": "code",
   "execution_count": null,
   "id": "0c613971",
   "metadata": {},
   "outputs": [],
   "source": [
    "artistsdf=pd.DataFrame(artists)"
   ]
  },
  {
   "cell_type": "code",
   "execution_count": null,
   "id": "31d1ba75",
   "metadata": {},
   "outputs": [],
   "source": [
    "artistsdf.columns=['Artist']\n",
    "artistsdf.head(10)"
   ]
  },
  {
   "cell_type": "code",
   "execution_count": null,
   "id": "8bbde55b",
   "metadata": {},
   "outputs": [],
   "source": [
    "year=soup.find_all(\"div\", {\"class\": \"vertical-card_content--copy\"})\n",
    "year"
   ]
  },
  {
   "cell_type": "code",
   "execution_count": null,
   "id": "2c7875e1",
   "metadata": {},
   "outputs": [],
   "source": [
    "#pattern=re.compile(r'\\d{4}')\n",
    "#test = [x for x in yearlist if re.match(r'\\d{4}',x)]"
   ]
  },
  {
   "cell_type": "code",
   "execution_count": null,
   "id": "64454ff1",
   "metadata": {},
   "outputs": [],
   "source": []
  },
  {
   "cell_type": "code",
   "execution_count": null,
   "id": "aa628a2a",
   "metadata": {},
   "outputs": [],
   "source": [
    "yeardf = pd.DataFrame(yearlist)"
   ]
  },
  {
   "cell_type": "code",
   "execution_count": null,
   "id": "f427760a",
   "metadata": {},
   "outputs": [],
   "source": [
    "yeardf.head()"
   ]
  },
  {
   "cell_type": "code",
   "execution_count": null,
   "id": "69ee3be8",
   "metadata": {},
   "outputs": [],
   "source": [
    "year"
   ]
  },
  {
   "cell_type": "code",
   "execution_count": null,
   "id": "355fbc14",
   "metadata": {},
   "outputs": [],
   "source": []
  }
 ],
 "metadata": {
  "kernelspec": {
   "display_name": "Python 3 (ipykernel)",
   "language": "python",
   "name": "python3"
  },
  "language_info": {
   "codemirror_mode": {
    "name": "ipython",
    "version": 3
   },
   "file_extension": ".py",
   "mimetype": "text/x-python",
   "name": "python",
   "nbconvert_exporter": "python",
   "pygments_lexer": "ipython3",
   "version": "3.9.7"
  }
 },
 "nbformat": 4,
 "nbformat_minor": 5
}
